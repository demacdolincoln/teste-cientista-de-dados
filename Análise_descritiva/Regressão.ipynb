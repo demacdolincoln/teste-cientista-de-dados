{
 "cells": [
  {
   "cell_type": "markdown",
   "metadata": {},
   "source": [
    "# sobre o gap de tempo necessário para atualizar:\n",
    "\n",
    "Primeiro um algoritmo bem básico de regressão com dados de algum ano, como 1996 (ser o mais antigo nesse caso é bom), e ver ao longo dos anos, se a qualidade dos resultados se mantém e se é possível determinar quando ele se torna inviável.\n",
    "\n",
    "Nesse caso uma regressão bem simples, usando um pouco de NLP para as categorias e dados tabulares (gorduras, calorias e proteínas), determinar a quantidade de sódio."
   ]
  },
  {
   "cell_type": "code",
   "execution_count": 1,
   "metadata": {},
   "outputs": [
    {
     "name": "stdout",
     "output_type": "stream",
     "text": [
      "Populating the interactive namespace from numpy and matplotlib\n"
     ]
    }
   ],
   "source": [
    "%pylab inline\n",
    "\n",
    "import pandas as pd\n",
    "import seaborn as sns\n",
    "import scipy.stats as stats\n",
    "import gensim\n",
    "from sklearn.svm import SVC\n",
    "from tqdm.notebook import tqdm\n",
    "from sqlalchemy import create_engine\n",
    "\n",
    "engine = create_engine('sqlite:///../recept.db')\n",
    "\n",
    "style.use(\"material_darker\")\n",
    "figsize(10, 10)"
   ]
  },
  {
   "cell_type": "code",
   "execution_count": 2,
   "metadata": {},
   "outputs": [],
   "source": [
    "df = pd.read_sql_query(\"\"\"\n",
    "            SELECT recept.id, recept.date, recept.calories,\n",
    "                recept.fat, recept.protein, recept.rating, recept.sodium\n",
    "            FROM recept\"\"\",\n",
    "                       engine,  parse_dates=['date']\n",
    "                      )"
   ]
  },
  {
   "cell_type": "code",
   "execution_count": 3,
   "metadata": {},
   "outputs": [],
   "source": [
    "df.date = df.date.map(lambda x:x.strftime(\"%Y\"))\n",
    "df_group_year = df.groupby(\"date\")\n",
    "# df_features = df_group_year.get_group(\"1997\")"
   ]
  },
  {
   "cell_type": "code",
   "execution_count": 4,
   "metadata": {},
   "outputs": [
    {
     "data": {
      "text/plain": [
       "<BarContainer object of 17 artists>"
      ]
     },
     "execution_count": 4,
     "metadata": {},
     "output_type": "execute_result"
    },
    {
     "data": {
      "image/png": "[encoded data removed]",
      "text/plain": [
       "<Figure size 720x720 with 1 Axes>"
      ]
     },
     "metadata": {},
     "output_type": "display_data"
    }
   ],
   "source": [
    "qnt_receitas = list(map(lambda x:len(x), df_group_year.groups.values()))\n",
    "anos = df_group_year.groups.keys()\n",
    "\n",
    "bar(x=anos, height=qnt_receitas)"
   ]
  },
  {
   "cell_type": "code",
   "execution_count": 5,
   "metadata": {},
   "outputs": [],
   "source": [
    "df_features = df_group_year.get_group(\"2005\")"
   ]
  },
  {
   "cell_type": "markdown",
   "metadata": {},
   "source": [
    "Mudando os planos para 2005 em diante devido a quantidade de receitas disponíveis..."
   ]
  },
  {
   "cell_type": "code",
   "execution_count": 6,
   "metadata": {},
   "outputs": [
    {
     "data": {
      "text/html": [
       "<div>\n",
       "<style scoped>\n",
       "    .dataframe tbody tr th:only-of-type {\n",
       "        vertical-align: middle;\n",
       "    }\n",
       "\n",
       "    .dataframe tbody tr th {\n",
       "        vertical-align: top;\n",
       "    }\n",
       "\n",
       "    .dataframe thead th {\n",
       "        text-align: right;\n",
       "    }\n",
       "</style>\n",
       "<table border=\"1\" class=\"dataframe\">\n",
       "  <thead>\n",
       "    <tr style=\"text-align: right;\">\n",
       "      <th></th>\n",
       "      <th>id</th>\n",
       "      <th>calories</th>\n",
       "      <th>fat</th>\n",
       "      <th>protein</th>\n",
       "      <th>rating</th>\n",
       "      <th>sodium</th>\n",
       "    </tr>\n",
       "  </thead>\n",
       "  <tbody>\n",
       "    <tr>\n",
       "      <th>count</th>\n",
       "      <td>661.000000</td>\n",
       "      <td>581.000000</td>\n",
       "      <td>580.000000</td>\n",
       "      <td>580.000000</td>\n",
       "      <td>661.000000</td>\n",
       "      <td>581.000000</td>\n",
       "    </tr>\n",
       "    <tr>\n",
       "      <th>mean</th>\n",
       "      <td>10257.193646</td>\n",
       "      <td>482.571429</td>\n",
       "      <td>26.986207</td>\n",
       "      <td>21.943103</td>\n",
       "      <td>3.959909</td>\n",
       "      <td>654.060241</td>\n",
       "    </tr>\n",
       "    <tr>\n",
       "      <th>std</th>\n",
       "      <td>5766.688136</td>\n",
       "      <td>469.658772</td>\n",
       "      <td>35.290404</td>\n",
       "      <td>35.212288</td>\n",
       "      <td>0.989241</td>\n",
       "      <td>1135.977899</td>\n",
       "    </tr>\n",
       "    <tr>\n",
       "      <th>min</th>\n",
       "      <td>42.000000</td>\n",
       "      <td>2.000000</td>\n",
       "      <td>0.000000</td>\n",
       "      <td>0.000000</td>\n",
       "      <td>0.000000</td>\n",
       "      <td>1.000000</td>\n",
       "    </tr>\n",
       "    <tr>\n",
       "      <th>25%</th>\n",
       "      <td>5473.000000</td>\n",
       "      <td>206.000000</td>\n",
       "      <td>9.000000</td>\n",
       "      <td>4.000000</td>\n",
       "      <td>3.750000</td>\n",
       "      <td>106.000000</td>\n",
       "    </tr>\n",
       "    <tr>\n",
       "      <th>50%</th>\n",
       "      <td>10503.000000</td>\n",
       "      <td>357.000000</td>\n",
       "      <td>19.000000</td>\n",
       "      <td>9.000000</td>\n",
       "      <td>4.375000</td>\n",
       "      <td>359.000000</td>\n",
       "    </tr>\n",
       "    <tr>\n",
       "      <th>75%</th>\n",
       "      <td>15435.000000</td>\n",
       "      <td>607.000000</td>\n",
       "      <td>35.000000</td>\n",
       "      <td>30.000000</td>\n",
       "      <td>4.375000</td>\n",
       "      <td>913.000000</td>\n",
       "    </tr>\n",
       "    <tr>\n",
       "      <th>max</th>\n",
       "      <td>20128.000000</td>\n",
       "      <td>5656.000000</td>\n",
       "      <td>599.000000</td>\n",
       "      <td>372.000000</td>\n",
       "      <td>5.000000</td>\n",
       "      <td>16813.000000</td>\n",
       "    </tr>\n",
       "  </tbody>\n",
       "</table>\n",
       "</div>"
      ],
      "text/plain": [
       "                 id     calories         fat     protein      rating  \\\n",
       "count    661.000000   581.000000  580.000000  580.000000  661.000000   \n",
       "mean   10257.193646   482.571429   26.986207   21.943103    3.959909   \n",
       "std     5766.688136   469.658772   35.290404   35.212288    0.989241   \n",
       "min       42.000000     2.000000    0.000000    0.000000    0.000000   \n",
       "25%     5473.000000   206.000000    9.000000    4.000000    3.750000   \n",
       "50%    10503.000000   357.000000   19.000000    9.000000    4.375000   \n",
       "75%    15435.000000   607.000000   35.000000   30.000000    4.375000   \n",
       "max    20128.000000  5656.000000  599.000000  372.000000    5.000000   \n",
       "\n",
       "             sodium  \n",
       "count    581.000000  \n",
       "mean     654.060241  \n",
       "std     1135.977899  \n",
       "min        1.000000  \n",
       "25%      106.000000  \n",
       "50%      359.000000  \n",
       "75%      913.000000  \n",
       "max    16813.000000  "
      ]
     },
     "execution_count": 6,
     "metadata": {},
     "output_type": "execute_result"
    }
   ],
   "source": [
    "df_features.describe()"
   ]
  },
  {
   "cell_type": "code",
   "execution_count": 7,
   "metadata": {},
   "outputs": [],
   "source": [
    "df_features = df_features.dropna()"
   ]
  },
  {
   "cell_type": "code",
   "execution_count": 8,
   "metadata": {},
   "outputs": [],
   "source": [
    "features = df_features[[\"fat\", \"calories\", \"sodium\", \"protein\", \"rating\"]]"
   ]
  },
  {
   "cell_type": "code",
   "execution_count": 9,
   "metadata": {},
   "outputs": [
    {
     "data": {
      "text/plain": [
       "<AxesSubplot:>"
      ]
     },
     "execution_count": 9,
     "metadata": {},
     "output_type": "execute_result"
    },
    {
     "data": {
      "image/png": "[encoded data removed]",
      "text/plain": [
       "<Figure size 720x720 with 2 Axes>"
      ]
     },
     "metadata": {},
     "output_type": "display_data"
    }
   ],
   "source": [
    "sns.heatmap(features.corr())"
   ]
  },
  {
   "cell_type": "code",
   "execution_count": 10,
   "metadata": {},
   "outputs": [],
   "source": [
    "features.pop(\"rating\");"
   ]
  },
  {
   "cell_type": "markdown",
   "metadata": {},
   "source": [
    "removendo rating (baixíssima correlação com o resto)..."
   ]
  },
  {
   "cell_type": "code",
   "execution_count": 11,
   "metadata": {},
   "outputs": [
    {
     "data": {
      "text/plain": [
       "<AxesSubplot:>"
      ]
     },
     "execution_count": 11,
     "metadata": {},
     "output_type": "execute_result"
    },
    {
     "data": {
      "image/png": "[encoded data removed]",
      "text/plain": [
       "<Figure size 720x720 with 1 Axes>"
      ]
     },
     "metadata": {},
     "output_type": "display_data"
    }
   ],
   "source": [
    "features.plot.box()"
   ]
  },
  {
   "cell_type": "markdown",
   "metadata": {},
   "source": [
    "muito outliers... utilizando método interquartile"
   ]
  },
  {
   "cell_type": "code",
   "execution_count": 12,
   "metadata": {},
   "outputs": [],
   "source": [
    "def interquartile(df):\n",
    "    \n",
    "    Q1 = df.quantile(q=.25)\n",
    "    Q3 = df.quantile(q=.75)\n",
    "    IQR = df.apply(stats.iqr)\n",
    "\n",
    "    return df[~((df < (Q1-1.5*IQR)) | (df > (Q3+1.5*IQR))).any(axis=1)]\n",
    "\n",
    "features = interquartile(features)"
   ]
  },
  {
   "cell_type": "code",
   "execution_count": 13,
   "metadata": {},
   "outputs": [
    {
     "data": {
      "text/plain": [
       "<AxesSubplot:>"
      ]
     },
     "execution_count": 13,
     "metadata": {},
     "output_type": "execute_result"
    },
    {
     "data": {
      "image/png": "[encoded data removed]",
      "text/plain": [
       "<Figure size 720x720 with 1 Axes>"
      ]
     },
     "metadata": {},
     "output_type": "display_data"
    }
   ],
   "source": [
    "features.plot.box()"
   ]
  },
  {
   "cell_type": "code",
   "execution_count": 14,
   "metadata": {},
   "outputs": [],
   "source": [
    "df_features[[\"fat\", \"calories\", \"sodium\", \"protein\"]] = features"
   ]
  },
  {
   "cell_type": "markdown",
   "metadata": {},
   "source": [
    "## cuidando das categorias"
   ]
  },
  {
   "cell_type": "code",
   "execution_count": 15,
   "metadata": {},
   "outputs": [],
   "source": [
    "df_categories = pd.read_sql_query(\"\"\"\n",
    "            SELECT recept.id, recept.date, categorie.name\n",
    "            FROM categorie\n",
    "            INNER JOIN categorierecept ON categorierecept.categorie_id = categorie.id\n",
    "            INNER JOIN recept ON recept.id = categorierecept.recept_id\n",
    "            \"\"\",\n",
    "            engine,  parse_dates=['date']\n",
    ")"
   ]
  },
  {
   "cell_type": "code",
   "execution_count": 16,
   "metadata": {},
   "outputs": [],
   "source": [
    "df_cat_group = df_categories.groupby(\"id\")"
   ]
  },
  {
   "cell_type": "code",
   "execution_count": 17,
   "metadata": {},
   "outputs": [],
   "source": [
    "def prepare_word2vec(df_features, df_cat_group, size=10):\n",
    "    categories_dataset = []\n",
    "\n",
    "    for i in df_features.id.tolist():\n",
    "        try:\n",
    "            categories_dataset.append(df_cat_group.get_group(i).name.tolist())\n",
    "        except KeyError:\n",
    "            index = df_features.id[[i]].index\n",
    "            df_features.drop(index=i-1)\n",
    "            \n",
    "    word2vec = gensim.models.Word2Vec(sentences=categories_dataset,\n",
    "                                      window=3, min_count=1, sg=1, size=size)\n",
    "    return word2vec"
   ]
  },
  {
   "cell_type": "code",
   "execution_count": 18,
   "metadata": {},
   "outputs": [],
   "source": [
    "word2vec = prepare_word2vec(df_features, df_cat_group)"
   ]
  },
  {
   "cell_type": "markdown",
   "metadata": {},
   "source": [
    "nesta etapa tento criar a correlação entre os vetores que representam as palavras no word2vec (sg=1 ~> skip-gram) com os dados sobre proteínas, gorduras e colesterol, para mais à frente fazer o treinamento com esse conjunto de dados para prever o sódio em determinado ano."
   ]
  },
  {
   "cell_type": "code",
   "execution_count": 19,
   "metadata": {},
   "outputs": [],
   "source": [
    "def get_max_size(data_nlp):\n",
    "\n",
    "    mx = 0\n",
    "    for i in data_nlp:\n",
    "        n = len(i)\n",
    "        if n > mx:\n",
    "            mx = n\n",
    "    return mx"
   ]
  },
  {
   "cell_type": "code",
   "execution_count": 20,
   "metadata": {},
   "outputs": [],
   "source": [
    "def prepare_nlp(df_features, df_cat_group, word2vec, size=10):\n",
    "\n",
    "    data_nlp = []\n",
    "    target_nlp = []\n",
    "\n",
    "    for i in tqdm(df_features.dropna().id.tolist()):\n",
    "        target_nlp.append(df_features.query(f\"id == {i}\")[[\"calories\", \"fat\", \"protein\"]])\n",
    "\n",
    "        group = df_cat_group.get_group(i)\n",
    "        words_vec = []\n",
    "        for name in group.name:\n",
    "            try:\n",
    "                words_vec.append(word2vec.wv[name])\n",
    "            except:\n",
    "                # pensando nos dados ficando defasados, desconsiderando novas keywords\n",
    "                pass\n",
    "        data_nlp.append(words_vec)\n",
    "    \n",
    "    data_len = len(data_nlp)\n",
    "    mx = get_max_size(data_nlp)\n",
    "    data_nlp_array = zeros((data_len, mx*size))\n",
    "    \n",
    "    for i in range(data_len):\n",
    "        for words in data_nlp[i]:\n",
    "            for j, word in enumerate(words):\n",
    "                a = j*size\n",
    "                b = (j+1)*size\n",
    "                data_nlp_array[i, a:b] = word\n",
    "            \n",
    "    \n",
    "    return data_nlp_array.astype(np.float64), array(target_nlp).reshape(-1, 3).astype(np.float64)"
   ]
  },
  {
   "cell_type": "code",
   "execution_count": 21,
   "metadata": {
    "scrolled": true
   },
   "outputs": [
    {
     "data": {
      "application/vnd.jupyter.widget-view+json": {
       "model_id": "ccf368d14d4d441486fd93d9135e6d27",
       "version_major": 2,
       "version_minor": 0
      },
      "text/plain": [
       "HBox(children=(FloatProgress(value=0.0, max=516.0), HTML(value='')))"
      ]
     },
     "metadata": {},
     "output_type": "display_data"
    },
    {
     "name": "stdout",
     "output_type": "stream",
     "text": [
      "\n"
     ]
    }
   ],
   "source": [
    "data_nlp, target_nlp = prepare_nlp(df_features, df_cat_group, word2vec)"
   ]
  },
  {
   "cell_type": "code",
   "execution_count": 22,
   "metadata": {},
   "outputs": [
    {
     "data": {
      "text/plain": [
       "array([-0.33065158, -0.21893723, -0.5084465 , -0.02642694, -0.6647644 ,\n",
       "        0.05711524, -0.28452042,  0.2878336 , -0.03004181,  0.83844084],\n",
       "      dtype=float32)"
      ]
     },
     "execution_count": 22,
     "metadata": {},
     "output_type": "execute_result"
    }
   ],
   "source": [
    "word2vec.wv[\"bake\"]"
   ]
  },
  {
   "cell_type": "code",
   "execution_count": 23,
   "metadata": {},
   "outputs": [
    {
     "data": {
      "text/plain": [
       "((516, 260), (516, 3))"
      ]
     },
     "execution_count": 23,
     "metadata": {},
     "output_type": "execute_result"
    }
   ],
   "source": [
    "data_nlp.shape, target_nlp.shape"
   ]
  },
  {
   "cell_type": "code",
   "execution_count": 24,
   "metadata": {},
   "outputs": [],
   "source": [
    "from sklearn.tree import DecisionTreeRegressor"
   ]
  },
  {
   "cell_type": "code",
   "execution_count": 47,
   "metadata": {},
   "outputs": [
    {
     "data": {
      "text/plain": [
       "DecisionTreeRegressor(max_depth=10000)"
      ]
     },
     "execution_count": 47,
     "metadata": {},
     "output_type": "execute_result"
    }
   ],
   "source": [
    "clf = DecisionTreeRegressor(max_depth=10000)\n",
    "clf.fit(data_nlp, target_nlp)"
   ]
  },
  {
   "cell_type": "code",
   "execution_count": 48,
   "metadata": {},
   "outputs": [
    {
     "data": {
      "text/plain": [
       "0.19388231814676857"
      ]
     },
     "execution_count": 48,
     "metadata": {},
     "output_type": "execute_result"
    }
   ],
   "source": [
    "clf.score(data_nlp, target_nlp)"
   ]
  },
  {
   "cell_type": "code",
   "execution_count": 49,
   "metadata": {},
   "outputs": [],
   "source": [
    "predicts = clf.predict(data_nlp)"
   ]
  },
  {
   "cell_type": "code",
   "execution_count": 50,
   "metadata": {},
   "outputs": [
    {
     "data": {
      "text/plain": [
       "<AxesSubplot:>"
      ]
     },
     "execution_count": 50,
     "metadata": {},
     "output_type": "execute_result"
    },
    {
     "data": {
      "image/png": "[encoded data removed]",
      "text/plain": [
       "<Figure size 720x720 with 2 Axes>"
      ]
     },
     "metadata": {},
     "output_type": "display_data"
    }
   ],
   "source": [
    "rows = target_nlp.shape[0]\n",
    "cols = 6\n",
    "\n",
    "_matrix = np.zeros((rows, cols))\n",
    "_matrix[:, :3] = target_nlp\n",
    "_matrix[:, 3:] = predicts\n",
    "\n",
    "_df = pd.DataFrame(_matrix, columns=[\"calories\", \"fat\", \"protein\", \"a0\", \"a1\", \"a2\"])\n",
    "\n",
    "sns.heatmap(_df.corr())"
   ]
  },
  {
   "cell_type": "code",
   "execution_count": null,
   "metadata": {},
   "outputs": [],
   "source": [
    "df_copy"
   ]
  },
  {
   "cell_type": "markdown",
   "metadata": {},
   "source": [
    "## Treinamento e comparações ao longo do tempo"
   ]
  },
  {
   "cell_type": "code",
   "execution_count": null,
   "metadata": {},
   "outputs": [],
   "source": [
    "df_train = df_features.dropna()\n",
    "\n",
    "X_train = df_train[[\"calories\", \"fat\", \"protein\"]]\n",
    "Y_train = df_train.sodium"
   ]
  },
  {
   "cell_type": "code",
   "execution_count": null,
   "metadata": {},
   "outputs": [],
   "source": [
    "from sklearn.svm import SVR\n",
    "svr = SVR()\n",
    "svr.fit(X_train, Y_train)"
   ]
  },
  {
   "cell_type": "code",
   "execution_count": null,
   "metadata": {},
   "outputs": [],
   "source": [
    "svr.score(X_train, Y_train)"
   ]
  },
  {
   "cell_type": "code",
   "execution_count": null,
   "metadata": {},
   "outputs": [],
   "source": [
    "def pipeline(df_group_year, year):\n",
    "    features = df_group_year.get_group(f\"{year}\")[[\"calories\", \"fat\", \"protein\", \"sodium\"]].dropna()\n",
    "    features = interquartile(features)\n",
    "    X = features[[\"calories\", \"fat\", \"protein\"]]\n",
    "    Y = features.sodium\n",
    "    return X, Y"
   ]
  },
  {
   "cell_type": "code",
   "execution_count": null,
   "metadata": {},
   "outputs": [],
   "source": [
    "x_2010, y_2010 = pipeline(df_group_year, 2016)"
   ]
  },
  {
   "cell_type": "code",
   "execution_count": null,
   "metadata": {},
   "outputs": [],
   "source": [
    "svr.score(x_2010, y_2010)"
   ]
  },
  {
   "cell_type": "code",
   "execution_count": null,
   "metadata": {},
   "outputs": [],
   "source": [
    "scores = []\n",
    "years = []\n",
    "for year in list(df_group_year.groups.keys())[1:]:\n",
    "    X, Y = pipeline(df_group_year, year)\n",
    "    score = svr.score(X, Y)\n",
    "    print(year, score)\n",
    "    years.append(year)\n",
    "    scores.append(score)"
   ]
  },
  {
   "cell_type": "code",
   "execution_count": null,
   "metadata": {},
   "outputs": [],
   "source": [
    "plot(scores[3:])\n",
    "xticks(range(len(years[3:])), years[3:]);"
   ]
  }
 ],
 "metadata": {
  "kernelspec": {
   "display_name": "Python 3",
   "language": "python",
   "name": "python3"
  },
  "language_info": {
   "codemirror_mode": {
    "name": "ipython",
    "version": 3
   },
   "file_extension": ".py",
   "mimetype": "text/x-python",
   "name": "python",
   "nbconvert_exporter": "python",
   "pygments_lexer": "ipython3",
   "version": "3.8.5"
  }
 },
 "nbformat": 4,
 "nbformat_minor": 4
}
